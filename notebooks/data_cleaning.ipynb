{
 "cells": [
  {
   "cell_type": "code",
   "execution_count": 2,
   "metadata": {},
   "outputs": [],
   "source": [
    "# importing librarys\n",
    "import pandas as pd\n",
    "import matplotlib.pyplot as plt\n",
    "import numpy as np"
   ]
  },
  {
   "cell_type": "code",
   "execution_count": null,
   "metadata": {},
   "outputs": [],
   "source": [
    "# reading the dataset and storing them\n",
    "df_cities = pd.read_csv(\"../Dataset/dim_cities.csv\")\n",
    "df_respondents = pd.read_csv(\"../Dataset/dim_repondents.csv\")\n",
    "df_responses = pd.read_csv(\"../Dataset/fact_survey_responses.csv\")"
   ]
  },
  {
   "cell_type": "markdown",
   "metadata": {},
   "source": [
    "#### Cleaning cities dataset"
   ]
  },
  {
   "cell_type": "code",
   "execution_count": 8,
   "metadata": {},
   "outputs": [
    {
     "name": "stdout",
     "output_type": "stream",
     "text": [
      "<class 'pandas.core.frame.DataFrame'>\n",
      "RangeIndex: 10 entries, 0 to 9\n",
      "Data columns (total 3 columns):\n",
      " #   Column   Non-Null Count  Dtype \n",
      "---  ------   --------------  ----- \n",
      " 0   City_ID  10 non-null     object\n",
      " 1   City     10 non-null     object\n",
      " 2   Tier     10 non-null     object\n",
      "dtypes: object(3)\n",
      "memory usage: 368.0+ bytes\n"
     ]
    }
   ],
   "source": [
    "df_cities.info()"
   ]
  },
  {
   "cell_type": "code",
   "execution_count": 9,
   "metadata": {},
   "outputs": [
    {
     "data": {
      "text/html": [
       "<div>\n",
       "<style scoped>\n",
       "    .dataframe tbody tr th:only-of-type {\n",
       "        vertical-align: middle;\n",
       "    }\n",
       "\n",
       "    .dataframe tbody tr th {\n",
       "        vertical-align: top;\n",
       "    }\n",
       "\n",
       "    .dataframe thead th {\n",
       "        text-align: right;\n",
       "    }\n",
       "</style>\n",
       "<table border=\"1\" class=\"dataframe\">\n",
       "  <thead>\n",
       "    <tr style=\"text-align: right;\">\n",
       "      <th></th>\n",
       "      <th>City_ID</th>\n",
       "      <th>City</th>\n",
       "      <th>Tier</th>\n",
       "    </tr>\n",
       "  </thead>\n",
       "  <tbody>\n",
       "    <tr>\n",
       "      <th>count</th>\n",
       "      <td>10</td>\n",
       "      <td>10</td>\n",
       "      <td>10</td>\n",
       "    </tr>\n",
       "    <tr>\n",
       "      <th>unique</th>\n",
       "      <td>10</td>\n",
       "      <td>10</td>\n",
       "      <td>2</td>\n",
       "    </tr>\n",
       "    <tr>\n",
       "      <th>top</th>\n",
       "      <td>CT111</td>\n",
       "      <td>Delhi</td>\n",
       "      <td>Tier 1</td>\n",
       "    </tr>\n",
       "    <tr>\n",
       "      <th>freq</th>\n",
       "      <td>1</td>\n",
       "      <td>1</td>\n",
       "      <td>5</td>\n",
       "    </tr>\n",
       "  </tbody>\n",
       "</table>\n",
       "</div>"
      ],
      "text/plain": [
       "       City_ID   City    Tier\n",
       "count       10     10      10\n",
       "unique      10     10       2\n",
       "top      CT111  Delhi  Tier 1\n",
       "freq         1      1       5"
      ]
     },
     "execution_count": 9,
     "metadata": {},
     "output_type": "execute_result"
    }
   ],
   "source": [
    "df_cities.describe()"
   ]
  },
  {
   "cell_type": "code",
   "execution_count": 11,
   "metadata": {},
   "outputs": [
    {
     "data": {
      "text/plain": [
       "City_ID    0\n",
       "City       0\n",
       "Tier       0\n",
       "dtype: int64"
      ]
     },
     "execution_count": 11,
     "metadata": {},
     "output_type": "execute_result"
    }
   ],
   "source": [
    "df_cities.isnull().sum()"
   ]
  },
  {
   "cell_type": "code",
   "execution_count": 13,
   "metadata": {},
   "outputs": [
    {
     "data": {
      "text/plain": [
       "False"
      ]
     },
     "execution_count": 13,
     "metadata": {},
     "output_type": "execute_result"
    }
   ],
   "source": [
    "df_cities.duplicated().any()"
   ]
  },
  {
   "cell_type": "markdown",
   "metadata": {},
   "source": [
    "We can conclude there are no null values in cities dataset or any duplicated value"
   ]
  },
  {
   "cell_type": "markdown",
   "metadata": {},
   "source": [
    "#### Cleaning respondents dataframe"
   ]
  },
  {
   "cell_type": "code",
   "execution_count": 7,
   "metadata": {},
   "outputs": [
    {
     "name": "stdout",
     "output_type": "stream",
     "text": [
      "<class 'pandas.core.frame.DataFrame'>\n",
      "RangeIndex: 10000 entries, 0 to 9999\n",
      "Data columns (total 5 columns):\n",
      " #   Column         Non-Null Count  Dtype \n",
      "---  ------         --------------  ----- \n",
      " 0   Respondent_ID  10000 non-null  int64 \n",
      " 1   Name           10000 non-null  object\n",
      " 2   Age            10000 non-null  object\n",
      " 3   Gender         10000 non-null  object\n",
      " 4   City_ID        10000 non-null  object\n",
      "dtypes: int64(1), object(4)\n",
      "memory usage: 390.8+ KB\n"
     ]
    }
   ],
   "source": [
    "df_respondents.info()"
   ]
  },
  {
   "cell_type": "code",
   "execution_count": 14,
   "metadata": {},
   "outputs": [
    {
     "data": {
      "text/html": [
       "<div>\n",
       "<style scoped>\n",
       "    .dataframe tbody tr th:only-of-type {\n",
       "        vertical-align: middle;\n",
       "    }\n",
       "\n",
       "    .dataframe tbody tr th {\n",
       "        vertical-align: top;\n",
       "    }\n",
       "\n",
       "    .dataframe thead th {\n",
       "        text-align: right;\n",
       "    }\n",
       "</style>\n",
       "<table border=\"1\" class=\"dataframe\">\n",
       "  <thead>\n",
       "    <tr style=\"text-align: right;\">\n",
       "      <th></th>\n",
       "      <th>Respondent_ID</th>\n",
       "    </tr>\n",
       "  </thead>\n",
       "  <tbody>\n",
       "    <tr>\n",
       "      <th>count</th>\n",
       "      <td>10000.00000</td>\n",
       "    </tr>\n",
       "    <tr>\n",
       "      <th>mean</th>\n",
       "      <td>125030.50000</td>\n",
       "    </tr>\n",
       "    <tr>\n",
       "      <th>std</th>\n",
       "      <td>2886.89568</td>\n",
       "    </tr>\n",
       "    <tr>\n",
       "      <th>min</th>\n",
       "      <td>120031.00000</td>\n",
       "    </tr>\n",
       "    <tr>\n",
       "      <th>25%</th>\n",
       "      <td>122530.75000</td>\n",
       "    </tr>\n",
       "    <tr>\n",
       "      <th>50%</th>\n",
       "      <td>125030.50000</td>\n",
       "    </tr>\n",
       "    <tr>\n",
       "      <th>75%</th>\n",
       "      <td>127530.25000</td>\n",
       "    </tr>\n",
       "    <tr>\n",
       "      <th>max</th>\n",
       "      <td>130030.00000</td>\n",
       "    </tr>\n",
       "  </tbody>\n",
       "</table>\n",
       "</div>"
      ],
      "text/plain": [
       "       Respondent_ID\n",
       "count    10000.00000\n",
       "mean    125030.50000\n",
       "std       2886.89568\n",
       "min     120031.00000\n",
       "25%     122530.75000\n",
       "50%     125030.50000\n",
       "75%     127530.25000\n",
       "max     130030.00000"
      ]
     },
     "execution_count": 14,
     "metadata": {},
     "output_type": "execute_result"
    }
   ],
   "source": [
    "df_respondents.describe()"
   ]
  },
  {
   "cell_type": "code",
   "execution_count": 15,
   "metadata": {},
   "outputs": [
    {
     "data": {
      "text/plain": [
       "Respondent_ID    0\n",
       "Name             0\n",
       "Age              0\n",
       "Gender           0\n",
       "City_ID          0\n",
       "dtype: int64"
      ]
     },
     "execution_count": 15,
     "metadata": {},
     "output_type": "execute_result"
    }
   ],
   "source": [
    "df_respondents.isnull().sum()"
   ]
  },
  {
   "cell_type": "code",
   "execution_count": 16,
   "metadata": {},
   "outputs": [
    {
     "data": {
      "text/plain": [
       "False"
      ]
     },
     "execution_count": 16,
     "metadata": {},
     "output_type": "execute_result"
    }
   ],
   "source": [
    "df_respondents.duplicated().any()"
   ]
  },
  {
   "cell_type": "code",
   "execution_count": 4,
   "metadata": {},
   "outputs": [],
   "source": [
    "# creating a new column name age_group which has value ('young adult', 'middle adult', 'senior')\n",
    "conditions = [\n",
    "    df_respondents['Age'].isin(['15-18', '19-30']),\n",
    "    df_respondents['Age'].isin(['31-45', '46-65']),\n",
    "    df_respondents['Age'] == '65+'\n",
    "]\n",
    "choices = ['Young Adult', 'Middle Adult', 'Senior']\n",
    "\n",
    "# Create the 'Age_Group' column\n",
    "df_respondents['Age_Group'] = np.select(conditions, choices, default='Other')"
   ]
  },
  {
   "cell_type": "code",
   "execution_count": null,
   "metadata": {},
   "outputs": [],
   "source": [
    "df_respondents.to_csv('../Dataset/dim_repondents_updated.csv', index=False)"
   ]
  },
  {
   "cell_type": "markdown",
   "metadata": {},
   "source": [
    "We can conclude there are no null values in cities dataset or any duplicated value"
   ]
  },
  {
   "cell_type": "markdown",
   "metadata": {},
   "source": [
    "#### Cleaning responses dataframe"
   ]
  },
  {
   "cell_type": "code",
   "execution_count": 17,
   "metadata": {},
   "outputs": [
    {
     "name": "stdout",
     "output_type": "stream",
     "text": [
      "<class 'pandas.core.frame.DataFrame'>\n",
      "RangeIndex: 10000 entries, 0 to 9999\n",
      "Data columns (total 23 columns):\n",
      " #   Column                          Non-Null Count  Dtype \n",
      "---  ------                          --------------  ----- \n",
      " 0   Response_ID                     10000 non-null  int64 \n",
      " 1   Respondent_ID                   10000 non-null  int64 \n",
      " 2   Consume_frequency               10000 non-null  object\n",
      " 3   Consume_time                    10000 non-null  object\n",
      " 4   Consume_reason                  10000 non-null  object\n",
      " 5   Heard_before                    10000 non-null  object\n",
      " 6   Brand_perception                10000 non-null  object\n",
      " 7   General_perception              10000 non-null  object\n",
      " 8   Tried_before                    10000 non-null  object\n",
      " 9   Taste_experience                10000 non-null  int64 \n",
      " 10  Reasons_preventing_trying       10000 non-null  object\n",
      " 11  Current_brands                  10000 non-null  object\n",
      " 12  Reasons_for_choosing_brands     10000 non-null  object\n",
      " 13  Improvements_desired            10000 non-null  object\n",
      " 14  Ingredients_expected            10000 non-null  object\n",
      " 15  Health_concerns                 10000 non-null  object\n",
      " 16  Interest_in_natural_or_organic  10000 non-null  object\n",
      " 17  Marketing_channels              10000 non-null  object\n",
      " 18  Packaging_preference            10000 non-null  object\n",
      " 19  Limited_edition_packaging       10000 non-null  object\n",
      " 20  Price_range                     10000 non-null  object\n",
      " 21  Purchase_location               10000 non-null  object\n",
      " 22  Typical_consumption_situations  10000 non-null  object\n",
      "dtypes: int64(3), object(20)\n",
      "memory usage: 1.8+ MB\n"
     ]
    }
   ],
   "source": [
    "df_responses.info()"
   ]
  },
  {
   "cell_type": "code",
   "execution_count": 18,
   "metadata": {},
   "outputs": [
    {
     "data": {
      "text/html": [
       "<div>\n",
       "<style scoped>\n",
       "    .dataframe tbody tr th:only-of-type {\n",
       "        vertical-align: middle;\n",
       "    }\n",
       "\n",
       "    .dataframe tbody tr th {\n",
       "        vertical-align: top;\n",
       "    }\n",
       "\n",
       "    .dataframe thead th {\n",
       "        text-align: right;\n",
       "    }\n",
       "</style>\n",
       "<table border=\"1\" class=\"dataframe\">\n",
       "  <thead>\n",
       "    <tr style=\"text-align: right;\">\n",
       "      <th></th>\n",
       "      <th>Response_ID</th>\n",
       "      <th>Respondent_ID</th>\n",
       "      <th>Taste_experience</th>\n",
       "    </tr>\n",
       "  </thead>\n",
       "  <tbody>\n",
       "    <tr>\n",
       "      <th>count</th>\n",
       "      <td>10000.00000</td>\n",
       "      <td>10000.00000</td>\n",
       "      <td>10000.000000</td>\n",
       "    </tr>\n",
       "    <tr>\n",
       "      <th>mean</th>\n",
       "      <td>108000.50000</td>\n",
       "      <td>125030.50000</td>\n",
       "      <td>3.281900</td>\n",
       "    </tr>\n",
       "    <tr>\n",
       "      <th>std</th>\n",
       "      <td>2886.89568</td>\n",
       "      <td>2886.89568</td>\n",
       "      <td>1.239752</td>\n",
       "    </tr>\n",
       "    <tr>\n",
       "      <th>min</th>\n",
       "      <td>103001.00000</td>\n",
       "      <td>120031.00000</td>\n",
       "      <td>1.000000</td>\n",
       "    </tr>\n",
       "    <tr>\n",
       "      <th>25%</th>\n",
       "      <td>105500.75000</td>\n",
       "      <td>122530.75000</td>\n",
       "      <td>2.000000</td>\n",
       "    </tr>\n",
       "    <tr>\n",
       "      <th>50%</th>\n",
       "      <td>108000.50000</td>\n",
       "      <td>125030.50000</td>\n",
       "      <td>3.000000</td>\n",
       "    </tr>\n",
       "    <tr>\n",
       "      <th>75%</th>\n",
       "      <td>110500.25000</td>\n",
       "      <td>127530.25000</td>\n",
       "      <td>4.000000</td>\n",
       "    </tr>\n",
       "    <tr>\n",
       "      <th>max</th>\n",
       "      <td>113000.00000</td>\n",
       "      <td>130030.00000</td>\n",
       "      <td>5.000000</td>\n",
       "    </tr>\n",
       "  </tbody>\n",
       "</table>\n",
       "</div>"
      ],
      "text/plain": [
       "        Response_ID  Respondent_ID  Taste_experience\n",
       "count   10000.00000    10000.00000      10000.000000\n",
       "mean   108000.50000   125030.50000          3.281900\n",
       "std      2886.89568     2886.89568          1.239752\n",
       "min    103001.00000   120031.00000          1.000000\n",
       "25%    105500.75000   122530.75000          2.000000\n",
       "50%    108000.50000   125030.50000          3.000000\n",
       "75%    110500.25000   127530.25000          4.000000\n",
       "max    113000.00000   130030.00000          5.000000"
      ]
     },
     "execution_count": 18,
     "metadata": {},
     "output_type": "execute_result"
    }
   ],
   "source": [
    "df_responses.describe()"
   ]
  },
  {
   "cell_type": "code",
   "execution_count": 19,
   "metadata": {},
   "outputs": [
    {
     "data": {
      "text/plain": [
       "Response_ID                       0\n",
       "Respondent_ID                     0\n",
       "Consume_frequency                 0\n",
       "Consume_time                      0\n",
       "Consume_reason                    0\n",
       "Heard_before                      0\n",
       "Brand_perception                  0\n",
       "General_perception                0\n",
       "Tried_before                      0\n",
       "Taste_experience                  0\n",
       "Reasons_preventing_trying         0\n",
       "Current_brands                    0\n",
       "Reasons_for_choosing_brands       0\n",
       "Improvements_desired              0\n",
       "Ingredients_expected              0\n",
       "Health_concerns                   0\n",
       "Interest_in_natural_or_organic    0\n",
       "Marketing_channels                0\n",
       "Packaging_preference              0\n",
       "Limited_edition_packaging         0\n",
       "Price_range                       0\n",
       "Purchase_location                 0\n",
       "Typical_consumption_situations    0\n",
       "dtype: int64"
      ]
     },
     "execution_count": 19,
     "metadata": {},
     "output_type": "execute_result"
    }
   ],
   "source": [
    "df_responses.isnull().sum()"
   ]
  },
  {
   "cell_type": "code",
   "execution_count": 20,
   "metadata": {},
   "outputs": [
    {
     "data": {
      "text/plain": [
       "False"
      ]
     },
     "execution_count": 20,
     "metadata": {},
     "output_type": "execute_result"
    }
   ],
   "source": [
    "df_responses.duplicated().any()"
   ]
  },
  {
   "cell_type": "code",
   "execution_count": 21,
   "metadata": {},
   "outputs": [
    {
     "data": {
      "text/html": [
       "<div>\n",
       "<style scoped>\n",
       "    .dataframe tbody tr th:only-of-type {\n",
       "        vertical-align: middle;\n",
       "    }\n",
       "\n",
       "    .dataframe tbody tr th {\n",
       "        vertical-align: top;\n",
       "    }\n",
       "\n",
       "    .dataframe thead th {\n",
       "        text-align: right;\n",
       "    }\n",
       "</style>\n",
       "<table border=\"1\" class=\"dataframe\">\n",
       "  <thead>\n",
       "    <tr style=\"text-align: right;\">\n",
       "      <th></th>\n",
       "      <th>Response_ID</th>\n",
       "      <th>Respondent_ID</th>\n",
       "      <th>Consume_frequency</th>\n",
       "      <th>Consume_time</th>\n",
       "      <th>Consume_reason</th>\n",
       "      <th>Heard_before</th>\n",
       "      <th>Brand_perception</th>\n",
       "      <th>General_perception</th>\n",
       "      <th>Tried_before</th>\n",
       "      <th>Taste_experience</th>\n",
       "      <th>...</th>\n",
       "      <th>Improvements_desired</th>\n",
       "      <th>Ingredients_expected</th>\n",
       "      <th>Health_concerns</th>\n",
       "      <th>Interest_in_natural_or_organic</th>\n",
       "      <th>Marketing_channels</th>\n",
       "      <th>Packaging_preference</th>\n",
       "      <th>Limited_edition_packaging</th>\n",
       "      <th>Price_range</th>\n",
       "      <th>Purchase_location</th>\n",
       "      <th>Typical_consumption_situations</th>\n",
       "    </tr>\n",
       "  </thead>\n",
       "  <tbody>\n",
       "    <tr>\n",
       "      <th>0</th>\n",
       "      <td>103001</td>\n",
       "      <td>120031</td>\n",
       "      <td>2-3 times a week</td>\n",
       "      <td>To stay awake during work/study</td>\n",
       "      <td>Increased energy and focus</td>\n",
       "      <td>Yes</td>\n",
       "      <td>Neutral</td>\n",
       "      <td>Not sure</td>\n",
       "      <td>No</td>\n",
       "      <td>5</td>\n",
       "      <td>...</td>\n",
       "      <td>Reduced sugar content</td>\n",
       "      <td>Guarana</td>\n",
       "      <td>No</td>\n",
       "      <td>Yes</td>\n",
       "      <td>TV commercials</td>\n",
       "      <td>Compact and portable cans</td>\n",
       "      <td>Yes</td>\n",
       "      <td>50-99</td>\n",
       "      <td>Supermarkets</td>\n",
       "      <td>Studying/working late</td>\n",
       "    </tr>\n",
       "    <tr>\n",
       "      <th>1</th>\n",
       "      <td>103002</td>\n",
       "      <td>120032</td>\n",
       "      <td>2-3 times a month</td>\n",
       "      <td>Throughout the day</td>\n",
       "      <td>To boost performance</td>\n",
       "      <td>No</td>\n",
       "      <td>Neutral</td>\n",
       "      <td>Not sure</td>\n",
       "      <td>No</td>\n",
       "      <td>5</td>\n",
       "      <td>...</td>\n",
       "      <td>More natural ingredients</td>\n",
       "      <td>Caffeine</td>\n",
       "      <td>Yes</td>\n",
       "      <td>Not Sure</td>\n",
       "      <td>Print media</td>\n",
       "      <td>Compact and portable cans</td>\n",
       "      <td>No</td>\n",
       "      <td>50-99</td>\n",
       "      <td>Supermarkets</td>\n",
       "      <td>Sports/exercise</td>\n",
       "    </tr>\n",
       "    <tr>\n",
       "      <th>2</th>\n",
       "      <td>103003</td>\n",
       "      <td>120033</td>\n",
       "      <td>Rarely</td>\n",
       "      <td>Before exercise</td>\n",
       "      <td>Increased energy and focus</td>\n",
       "      <td>No</td>\n",
       "      <td>Neutral</td>\n",
       "      <td>Not sure</td>\n",
       "      <td>No</td>\n",
       "      <td>2</td>\n",
       "      <td>...</td>\n",
       "      <td>More natural ingredients</td>\n",
       "      <td>Caffeine</td>\n",
       "      <td>No</td>\n",
       "      <td>Yes</td>\n",
       "      <td>Online ads</td>\n",
       "      <td>Innovative bottle design</td>\n",
       "      <td>Not Sure</td>\n",
       "      <td>100-150</td>\n",
       "      <td>Supermarkets</td>\n",
       "      <td>Studying/working late</td>\n",
       "    </tr>\n",
       "    <tr>\n",
       "      <th>3</th>\n",
       "      <td>103004</td>\n",
       "      <td>120034</td>\n",
       "      <td>2-3 times a week</td>\n",
       "      <td>To stay awake during work/study</td>\n",
       "      <td>To boost performance</td>\n",
       "      <td>No</td>\n",
       "      <td>Positive</td>\n",
       "      <td>Dangerous</td>\n",
       "      <td>Yes</td>\n",
       "      <td>5</td>\n",
       "      <td>...</td>\n",
       "      <td>Other</td>\n",
       "      <td>Caffeine</td>\n",
       "      <td>No</td>\n",
       "      <td>Yes</td>\n",
       "      <td>Online ads</td>\n",
       "      <td>Compact and portable cans</td>\n",
       "      <td>No</td>\n",
       "      <td>Above 150</td>\n",
       "      <td>Supermarkets</td>\n",
       "      <td>Sports/exercise</td>\n",
       "    </tr>\n",
       "    <tr>\n",
       "      <th>4</th>\n",
       "      <td>103005</td>\n",
       "      <td>120035</td>\n",
       "      <td>Daily</td>\n",
       "      <td>To stay awake during work/study</td>\n",
       "      <td>Increased energy and focus</td>\n",
       "      <td>Yes</td>\n",
       "      <td>Neutral</td>\n",
       "      <td>Effective</td>\n",
       "      <td>Yes</td>\n",
       "      <td>5</td>\n",
       "      <td>...</td>\n",
       "      <td>More natural ingredients</td>\n",
       "      <td>Caffeine</td>\n",
       "      <td>Yes</td>\n",
       "      <td>Yes</td>\n",
       "      <td>Online ads</td>\n",
       "      <td>Compact and portable cans</td>\n",
       "      <td>Yes</td>\n",
       "      <td>100-150</td>\n",
       "      <td>Online retailers</td>\n",
       "      <td>Studying/working late</td>\n",
       "    </tr>\n",
       "  </tbody>\n",
       "</table>\n",
       "<p>5 rows × 23 columns</p>\n",
       "</div>"
      ],
      "text/plain": [
       "   Response_ID  Respondent_ID  Consume_frequency  \\\n",
       "0       103001         120031   2-3 times a week   \n",
       "1       103002         120032  2-3 times a month   \n",
       "2       103003         120033             Rarely   \n",
       "3       103004         120034   2-3 times a week   \n",
       "4       103005         120035              Daily   \n",
       "\n",
       "                      Consume_time              Consume_reason Heard_before  \\\n",
       "0  To stay awake during work/study  Increased energy and focus          Yes   \n",
       "1               Throughout the day        To boost performance           No   \n",
       "2                  Before exercise  Increased energy and focus           No   \n",
       "3  To stay awake during work/study        To boost performance           No   \n",
       "4  To stay awake during work/study  Increased energy and focus          Yes   \n",
       "\n",
       "  Brand_perception General_perception Tried_before  Taste_experience  ...  \\\n",
       "0          Neutral           Not sure           No                 5  ...   \n",
       "1          Neutral           Not sure           No                 5  ...   \n",
       "2          Neutral           Not sure           No                 2  ...   \n",
       "3         Positive          Dangerous          Yes                 5  ...   \n",
       "4          Neutral          Effective          Yes                 5  ...   \n",
       "\n",
       "       Improvements_desired Ingredients_expected Health_concerns  \\\n",
       "0     Reduced sugar content              Guarana              No   \n",
       "1  More natural ingredients             Caffeine             Yes   \n",
       "2  More natural ingredients             Caffeine              No   \n",
       "3                     Other             Caffeine              No   \n",
       "4  More natural ingredients             Caffeine             Yes   \n",
       "\n",
       "  Interest_in_natural_or_organic Marketing_channels  \\\n",
       "0                            Yes     TV commercials   \n",
       "1                       Not Sure        Print media   \n",
       "2                            Yes         Online ads   \n",
       "3                            Yes         Online ads   \n",
       "4                            Yes         Online ads   \n",
       "\n",
       "        Packaging_preference Limited_edition_packaging Price_range  \\\n",
       "0  Compact and portable cans                       Yes       50-99   \n",
       "1  Compact and portable cans                        No       50-99   \n",
       "2   Innovative bottle design                  Not Sure     100-150   \n",
       "3  Compact and portable cans                        No   Above 150   \n",
       "4  Compact and portable cans                       Yes     100-150   \n",
       "\n",
       "  Purchase_location Typical_consumption_situations  \n",
       "0      Supermarkets          Studying/working late  \n",
       "1      Supermarkets                Sports/exercise  \n",
       "2      Supermarkets          Studying/working late  \n",
       "3      Supermarkets                Sports/exercise  \n",
       "4  Online retailers          Studying/working late  \n",
       "\n",
       "[5 rows x 23 columns]"
      ]
     },
     "execution_count": 21,
     "metadata": {},
     "output_type": "execute_result"
    }
   ],
   "source": [
    "df_responses.head()"
   ]
  },
  {
   "cell_type": "markdown",
   "metadata": {},
   "source": [
    "We can conclude there are no null values in cities dataset or any duplicated value"
   ]
  }
 ],
 "metadata": {
  "kernelspec": {
   "display_name": "Python 3",
   "language": "python",
   "name": "python3"
  },
  "language_info": {
   "codemirror_mode": {
    "name": "ipython",
    "version": 3
   },
   "file_extension": ".py",
   "mimetype": "text/x-python",
   "name": "python",
   "nbconvert_exporter": "python",
   "pygments_lexer": "ipython3",
   "version": "3.10.12"
  }
 },
 "nbformat": 4,
 "nbformat_minor": 2
}
